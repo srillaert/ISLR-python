{
 "cells": [
  {
   "cell_type": "code",
   "execution_count": 1,
   "metadata": {
    "collapsed": true
   },
   "outputs": [],
   "source": [
    "%matplotlib inline\n",
    "import numpy as np\n",
    "import pandas as pd\n",
    "import seaborn as sns\n",
    "import statsmodels.formula.api as sm\n",
    "sns.set()"
   ]
  },
  {
   "cell_type": "markdown",
   "metadata": {},
   "source": [
    "### Load the Boston data set"
   ]
  },
  {
   "cell_type": "code",
   "execution_count": 2,
   "metadata": {},
   "outputs": [
    {
     "data": {
      "text/html": [
       "<div>\n",
       "<style>\n",
       "    .dataframe thead tr:only-child th {\n",
       "        text-align: right;\n",
       "    }\n",
       "\n",
       "    .dataframe thead th {\n",
       "        text-align: left;\n",
       "    }\n",
       "\n",
       "    .dataframe tbody tr th {\n",
       "        vertical-align: top;\n",
       "    }\n",
       "</style>\n",
       "<table border=\"1\" class=\"dataframe\">\n",
       "  <thead>\n",
       "    <tr style=\"text-align: right;\">\n",
       "      <th></th>\n",
       "      <th>crim</th>\n",
       "      <th>zn</th>\n",
       "      <th>indus</th>\n",
       "      <th>chas</th>\n",
       "      <th>nox</th>\n",
       "      <th>rm</th>\n",
       "      <th>age</th>\n",
       "      <th>dis</th>\n",
       "      <th>rad</th>\n",
       "      <th>tax</th>\n",
       "      <th>ptratio</th>\n",
       "      <th>black</th>\n",
       "      <th>lstat</th>\n",
       "      <th>medv</th>\n",
       "    </tr>\n",
       "  </thead>\n",
       "  <tbody>\n",
       "    <tr>\n",
       "      <th>0</th>\n",
       "      <td>0.00632</td>\n",
       "      <td>18.0</td>\n",
       "      <td>2.31</td>\n",
       "      <td>0</td>\n",
       "      <td>0.538</td>\n",
       "      <td>6.575</td>\n",
       "      <td>65.2</td>\n",
       "      <td>4.0900</td>\n",
       "      <td>1</td>\n",
       "      <td>296</td>\n",
       "      <td>15.3</td>\n",
       "      <td>396.90</td>\n",
       "      <td>4.98</td>\n",
       "      <td>24.0</td>\n",
       "    </tr>\n",
       "    <tr>\n",
       "      <th>1</th>\n",
       "      <td>0.02731</td>\n",
       "      <td>0.0</td>\n",
       "      <td>7.07</td>\n",
       "      <td>0</td>\n",
       "      <td>0.469</td>\n",
       "      <td>6.421</td>\n",
       "      <td>78.9</td>\n",
       "      <td>4.9671</td>\n",
       "      <td>2</td>\n",
       "      <td>242</td>\n",
       "      <td>17.8</td>\n",
       "      <td>396.90</td>\n",
       "      <td>9.14</td>\n",
       "      <td>21.6</td>\n",
       "    </tr>\n",
       "    <tr>\n",
       "      <th>2</th>\n",
       "      <td>0.02729</td>\n",
       "      <td>0.0</td>\n",
       "      <td>7.07</td>\n",
       "      <td>0</td>\n",
       "      <td>0.469</td>\n",
       "      <td>7.185</td>\n",
       "      <td>61.1</td>\n",
       "      <td>4.9671</td>\n",
       "      <td>2</td>\n",
       "      <td>242</td>\n",
       "      <td>17.8</td>\n",
       "      <td>392.83</td>\n",
       "      <td>4.03</td>\n",
       "      <td>34.7</td>\n",
       "    </tr>\n",
       "    <tr>\n",
       "      <th>3</th>\n",
       "      <td>0.03237</td>\n",
       "      <td>0.0</td>\n",
       "      <td>2.18</td>\n",
       "      <td>0</td>\n",
       "      <td>0.458</td>\n",
       "      <td>6.998</td>\n",
       "      <td>45.8</td>\n",
       "      <td>6.0622</td>\n",
       "      <td>3</td>\n",
       "      <td>222</td>\n",
       "      <td>18.7</td>\n",
       "      <td>394.63</td>\n",
       "      <td>2.94</td>\n",
       "      <td>33.4</td>\n",
       "    </tr>\n",
       "    <tr>\n",
       "      <th>4</th>\n",
       "      <td>0.06905</td>\n",
       "      <td>0.0</td>\n",
       "      <td>2.18</td>\n",
       "      <td>0</td>\n",
       "      <td>0.458</td>\n",
       "      <td>7.147</td>\n",
       "      <td>54.2</td>\n",
       "      <td>6.0622</td>\n",
       "      <td>3</td>\n",
       "      <td>222</td>\n",
       "      <td>18.7</td>\n",
       "      <td>396.90</td>\n",
       "      <td>5.33</td>\n",
       "      <td>36.2</td>\n",
       "    </tr>\n",
       "  </tbody>\n",
       "</table>\n",
       "</div>"
      ],
      "text/plain": [
       "      crim    zn  indus  chas    nox     rm   age     dis  rad  tax  ptratio  \\\n",
       "0  0.00632  18.0   2.31     0  0.538  6.575  65.2  4.0900    1  296     15.3   \n",
       "1  0.02731   0.0   7.07     0  0.469  6.421  78.9  4.9671    2  242     17.8   \n",
       "2  0.02729   0.0   7.07     0  0.469  7.185  61.1  4.9671    2  242     17.8   \n",
       "3  0.03237   0.0   2.18     0  0.458  6.998  45.8  6.0622    3  222     18.7   \n",
       "4  0.06905   0.0   2.18     0  0.458  7.147  54.2  6.0622    3  222     18.7   \n",
       "\n",
       "    black  lstat  medv  \n",
       "0  396.90   4.98  24.0  \n",
       "1  396.90   9.14  21.6  \n",
       "2  392.83   4.03  34.7  \n",
       "3  394.63   2.94  33.4  \n",
       "4  396.90   5.33  36.2  "
      ]
     },
     "execution_count": 2,
     "metadata": {},
     "output_type": "execute_result"
    }
   ],
   "source": [
    "df = pd.read_csv(\"../Data/Boston.csv\")\n",
    "df.head()"
   ]
  },
  {
   "cell_type": "markdown",
   "metadata": {},
   "source": [
    "### Fit a simple linear regression model for each predictor"
   ]
  },
  {
   "cell_type": "code",
   "execution_count": 3,
   "metadata": {},
   "outputs": [
    {
     "name": "stdout",
     "output_type": "stream",
     "text": [
      "p-values of the univariate regression coefficients : \n",
      "zn : 5.50647210768e-06\n",
      "indus : 1.45034893303e-21\n",
      "chas : 0.209434501535\n",
      "nox : 3.75173926036e-23\n",
      "rm : 6.34670298469e-07\n",
      "age : 2.85486935024e-16\n",
      "dis : 8.51994876693e-19\n",
      "rad : 2.69384439819e-56\n",
      "tax : 2.35712683526e-47\n",
      "ptratio : 2.94292244736e-11\n",
      "black : 2.48727397377e-19\n",
      "lstat : 2.65427723147e-27\n",
      "medv : 1.17398708219e-19\n"
     ]
    }
   ],
   "source": [
    "print('p-values of the univariate regression coefficients : ')\n",
    "predictors = df.columns.values.tolist()\n",
    "predictors.remove('crim')\n",
    "univariate_coefficients = pd.Series()\n",
    "for predictor in predictors :\n",
    "    fit = sm.ols(\"crim ~ \" + predictor, df).fit()\n",
    "    univariate_coefficients[predictor] = fit.params[1]\n",
    "    print(predictor, end=' : ')\n",
    "    print(fit.pvalues[1])"
   ]
  },
  {
   "cell_type": "markdown",
   "metadata": {},
   "source": [
    "*chas*, Charles River dummy variable (= 1 if tract bounds river; 0 otherwise), has the highest p-value (0.21). We cannot reject the null hypothesis for this predictor."
   ]
  },
  {
   "cell_type": "code",
   "execution_count": 4,
   "metadata": {},
   "outputs": [
    {
     "data": {
      "image/png": "[encoded data removed]",
      "text/plain": [
       "<matplotlib.figure.Figure at 0x7fe70b364a90>"
      ]
     },
     "metadata": {},
     "output_type": "display_data"
    }
   ],
   "source": [
    "df.plot.scatter('chas', 'crim');"
   ]
  },
  {
   "cell_type": "markdown",
   "metadata": {},
   "source": [
    "*rad*, index of accessibility to radial highways, has the lowest p-value (2.69e-56). It has a statistical significant association with the response *crim*."
   ]
  },
  {
   "cell_type": "code",
   "execution_count": 5,
   "metadata": {},
   "outputs": [
    {
     "data": {
      "image/png": "[encoded data removed]",
      "text/plain": [
       "<matplotlib.figure.Figure at 0x7fe703f50a58>"
      ]
     },
     "metadata": {},
     "output_type": "display_data"
    }
   ],
   "source": [
    "df.plot.scatter('rad', 'crim');"
   ]
  },
  {
   "cell_type": "markdown",
   "metadata": {},
   "source": [
    "### Fit a multiple regression model using all of the predictors"
   ]
  },
  {
   "cell_type": "code",
   "execution_count": 6,
   "metadata": {},
   "outputs": [
    {
     "data": {
      "text/html": [
       "<table class=\"simpletable\">\n",
       "<tr>\n",
       "        <td>Model:</td>               <td>OLS</td>         <td>Adj. R-squared:</td>     <td>0.440</td>  \n",
       "</tr>\n",
       "<tr>\n",
       "  <td>Dependent Variable:</td>       <td>crim</td>              <td>AIC:</td>         <td>3334.5214</td>\n",
       "</tr>\n",
       "<tr>\n",
       "         <td>Date:</td>        <td>2017-11-30 12:50</td>        <td>BIC:</td>         <td>3393.6929</td>\n",
       "</tr>\n",
       "<tr>\n",
       "   <td>No. Observations:</td>         <td>506</td>         <td>Log-Likelihood:</td>    <td>-1653.3</td> \n",
       "</tr>\n",
       "<tr>\n",
       "       <td>Df Model:</td>             <td>13</td>           <td>F-statistic:</td>       <td>31.47</td>  \n",
       "</tr>\n",
       "<tr>\n",
       "     <td>Df Residuals:</td>           <td>492</td>       <td>Prob (F-statistic):</td> <td>1.57e-56</td> \n",
       "</tr>\n",
       "<tr>\n",
       "      <td>R-squared:</td>            <td>0.454</td>            <td>Scale:</td>         <td>41.463</td>  \n",
       "</tr>\n",
       "</table>\n",
       "<table class=\"simpletable\">\n",
       "<tr>\n",
       "      <td></td>        <th>Coef.</th>  <th>Std.Err.</th>    <th>t</th>     <th>P>|t|</th>  <th>[0.025</th>  <th>0.975]</th> \n",
       "</tr>\n",
       "<tr>\n",
       "  <th>Intercept</th>  <td>17.0332</td>  <td>7.2349</td>  <td>2.3543</td>  <td>0.0189</td>  <td>2.8181</td>  <td>31.2483</td>\n",
       "</tr>\n",
       "<tr>\n",
       "  <th>zn</th>         <td>0.0449</td>   <td>0.0187</td>  <td>2.3943</td>  <td>0.0170</td>  <td>0.0080</td>  <td>0.0817</td> \n",
       "</tr>\n",
       "<tr>\n",
       "  <th>indus</th>      <td>-0.0639</td>  <td>0.0834</td>  <td>-0.7656</td> <td>0.4443</td>  <td>-0.2277</td> <td>0.1000</td> \n",
       "</tr>\n",
       "<tr>\n",
       "  <th>chas</th>       <td>-0.7491</td>  <td>1.1801</td>  <td>-0.6348</td> <td>0.5259</td>  <td>-3.0679</td> <td>1.5696</td> \n",
       "</tr>\n",
       "<tr>\n",
       "  <th>nox</th>       <td>-10.3135</td>  <td>5.2755</td>  <td>-1.9550</td> <td>0.0512</td> <td>-20.6789</td> <td>0.0518</td> \n",
       "</tr>\n",
       "<tr>\n",
       "  <th>rm</th>         <td>0.4301</td>   <td>0.6128</td>  <td>0.7019</td>  <td>0.4831</td>  <td>-0.7740</td> <td>1.6342</td> \n",
       "</tr>\n",
       "<tr>\n",
       "  <th>age</th>        <td>0.0015</td>   <td>0.0179</td>  <td>0.0810</td>  <td>0.9355</td>  <td>-0.0338</td> <td>0.0367</td> \n",
       "</tr>\n",
       "<tr>\n",
       "  <th>dis</th>        <td>-0.9872</td>  <td>0.2818</td>  <td>-3.5029</td> <td>0.0005</td>  <td>-1.5409</td> <td>-0.4335</td>\n",
       "</tr>\n",
       "<tr>\n",
       "  <th>rad</th>        <td>0.5882</td>   <td>0.0880</td>  <td>6.6804</td>  <td>0.0000</td>  <td>0.4152</td>  <td>0.7612</td> \n",
       "</tr>\n",
       "<tr>\n",
       "  <th>tax</th>        <td>-0.0038</td>  <td>0.0052</td>  <td>-0.7332</td> <td>0.4638</td>  <td>-0.0139</td> <td>0.0063</td> \n",
       "</tr>\n",
       "<tr>\n",
       "  <th>ptratio</th>    <td>-0.2711</td>  <td>0.1865</td>  <td>-1.4539</td> <td>0.1466</td>  <td>-0.6374</td> <td>0.0953</td> \n",
       "</tr>\n",
       "<tr>\n",
       "  <th>black</th>      <td>-0.0075</td>  <td>0.0037</td>  <td>-2.0520</td> <td>0.0407</td>  <td>-0.0148</td> <td>-0.0003</td>\n",
       "</tr>\n",
       "<tr>\n",
       "  <th>lstat</th>      <td>0.1262</td>   <td>0.0757</td>  <td>1.6667</td>  <td>0.0962</td>  <td>-0.0226</td> <td>0.2750</td> \n",
       "</tr>\n",
       "<tr>\n",
       "  <th>medv</th>       <td>-0.1989</td>  <td>0.0605</td>  <td>-3.2865</td> <td>0.0011</td>  <td>-0.3178</td> <td>-0.0800</td>\n",
       "</tr>\n",
       "</table>\n",
       "<table class=\"simpletable\">\n",
       "<tr>\n",
       "     <td>Omnibus:</td>    <td>666.613</td>  <td>Durbin-Watson:</td>     <td>1.519</td>  \n",
       "</tr>\n",
       "<tr>\n",
       "  <td>Prob(Omnibus):</td>  <td>0.000</td>  <td>Jarque-Bera (JB):</td> <td>84887.625</td>\n",
       "</tr>\n",
       "<tr>\n",
       "       <td>Skew:</td>      <td>6.617</td>      <td>Prob(JB):</td>       <td>0.000</td>  \n",
       "</tr>\n",
       "<tr>\n",
       "     <td>Kurtosis:</td>   <td>65.058</td>   <td>Condition No.:</td>     <td>15777</td>  \n",
       "</tr>\n",
       "</table>"
      ],
      "text/plain": [
       "<class 'statsmodels.iolib.summary2.Summary'>\n",
       "\"\"\"\n",
       "                 Results: Ordinary least squares\n",
       "==================================================================\n",
       "Model:              OLS              Adj. R-squared:     0.440    \n",
       "Dependent Variable: crim             AIC:                3334.5214\n",
       "Date:               2017-11-30 12:50 BIC:                3393.6929\n",
       "No. Observations:   506              Log-Likelihood:     -1653.3  \n",
       "Df Model:           13               F-statistic:        31.47    \n",
       "Df Residuals:       492              Prob (F-statistic): 1.57e-56 \n",
       "R-squared:          0.454            Scale:              41.463   \n",
       "-------------------------------------------------------------------\n",
       "              Coef.    Std.Err.     t     P>|t|    [0.025    0.975]\n",
       "-------------------------------------------------------------------\n",
       "Intercept     17.0332    7.2349   2.3543  0.0189    2.8181  31.2483\n",
       "zn             0.0449    0.0187   2.3943  0.0170    0.0080   0.0817\n",
       "indus         -0.0639    0.0834  -0.7656  0.4443   -0.2277   0.1000\n",
       "chas          -0.7491    1.1801  -0.6348  0.5259   -3.0679   1.5696\n",
       "nox          -10.3135    5.2755  -1.9550  0.0512  -20.6789   0.0518\n",
       "rm             0.4301    0.6128   0.7019  0.4831   -0.7740   1.6342\n",
       "age            0.0015    0.0179   0.0810  0.9355   -0.0338   0.0367\n",
       "dis           -0.9872    0.2818  -3.5029  0.0005   -1.5409  -0.4335\n",
       "rad            0.5882    0.0880   6.6804  0.0000    0.4152   0.7612\n",
       "tax           -0.0038    0.0052  -0.7332  0.4638   -0.0139   0.0063\n",
       "ptratio       -0.2711    0.1865  -1.4539  0.1466   -0.6374   0.0953\n",
       "black         -0.0075    0.0037  -2.0520  0.0407   -0.0148  -0.0003\n",
       "lstat          0.1262    0.0757   1.6667  0.0962   -0.0226   0.2750\n",
       "medv          -0.1989    0.0605  -3.2865  0.0011   -0.3178  -0.0800\n",
       "------------------------------------------------------------------\n",
       "Omnibus:             666.613      Durbin-Watson:         1.519    \n",
       "Prob(Omnibus):       0.000        Jarque-Bera (JB):      84887.625\n",
       "Skew:                6.617        Prob(JB):              0.000    \n",
       "Kurtosis:            65.058       Condition No.:         15777    \n",
       "==================================================================\n",
       "* The condition number is large (2e+04). This might indicate\n",
       "strong multicollinearity or other numerical problems.\n",
       "\"\"\""
      ]
     },
     "execution_count": 6,
     "metadata": {},
     "output_type": "execute_result"
    }
   ],
   "source": [
    "multiple_fit = sm.ols(\"crim ~ \" + \"+\".join(predictors), df).fit()\n",
    "multiple_fit.summary2()"
   ]
  },
  {
   "cell_type": "markdown",
   "metadata": {},
   "source": [
    "Predictors for which we can reject the null hypothesis :"
   ]
  },
  {
   "cell_type": "code",
   "execution_count": 7,
   "metadata": {},
   "outputs": [
    {
     "data": {
      "text/html": [
       "<div>\n",
       "<style>\n",
       "    .dataframe thead tr:only-child th {\n",
       "        text-align: right;\n",
       "    }\n",
       "\n",
       "    .dataframe thead th {\n",
       "        text-align: left;\n",
       "    }\n",
       "\n",
       "    .dataframe tbody tr th {\n",
       "        vertical-align: top;\n",
       "    }\n",
       "</style>\n",
       "<table border=\"1\" class=\"dataframe\">\n",
       "  <thead>\n",
       "    <tr style=\"text-align: right;\">\n",
       "      <th></th>\n",
       "      <th>Coef.</th>\n",
       "      <th>Std.Err.</th>\n",
       "      <th>t</th>\n",
       "      <th>P&gt;|t|</th>\n",
       "      <th>[0.025</th>\n",
       "      <th>0.975]</th>\n",
       "      <th>Univariate Coef.</th>\n",
       "    </tr>\n",
       "  </thead>\n",
       "  <tbody>\n",
       "    <tr>\n",
       "      <th>Intercept</th>\n",
       "      <td>17.033228</td>\n",
       "      <td>7.234903</td>\n",
       "      <td>2.354313</td>\n",
       "      <td>1.894909e-02</td>\n",
       "      <td>2.818109</td>\n",
       "      <td>31.248346</td>\n",
       "      <td>NaN</td>\n",
       "    </tr>\n",
       "    <tr>\n",
       "      <th>zn</th>\n",
       "      <td>0.044855</td>\n",
       "      <td>0.018734</td>\n",
       "      <td>2.394312</td>\n",
       "      <td>1.702489e-02</td>\n",
       "      <td>0.008047</td>\n",
       "      <td>0.081664</td>\n",
       "      <td>-0.073935</td>\n",
       "    </tr>\n",
       "    <tr>\n",
       "      <th>dis</th>\n",
       "      <td>-0.987176</td>\n",
       "      <td>0.281817</td>\n",
       "      <td>-3.502893</td>\n",
       "      <td>5.022039e-04</td>\n",
       "      <td>-1.540890</td>\n",
       "      <td>-0.433462</td>\n",
       "      <td>-1.550902</td>\n",
       "    </tr>\n",
       "    <tr>\n",
       "      <th>rad</th>\n",
       "      <td>0.588209</td>\n",
       "      <td>0.088049</td>\n",
       "      <td>6.680448</td>\n",
       "      <td>6.460451e-11</td>\n",
       "      <td>0.415210</td>\n",
       "      <td>0.761208</td>\n",
       "      <td>0.617911</td>\n",
       "    </tr>\n",
       "    <tr>\n",
       "      <th>black</th>\n",
       "      <td>-0.007538</td>\n",
       "      <td>0.003673</td>\n",
       "      <td>-2.051959</td>\n",
       "      <td>4.070233e-02</td>\n",
       "      <td>-0.014755</td>\n",
       "      <td>-0.000320</td>\n",
       "      <td>-0.036280</td>\n",
       "    </tr>\n",
       "    <tr>\n",
       "      <th>medv</th>\n",
       "      <td>-0.198887</td>\n",
       "      <td>0.060516</td>\n",
       "      <td>-3.286517</td>\n",
       "      <td>1.086810e-03</td>\n",
       "      <td>-0.317788</td>\n",
       "      <td>-0.079985</td>\n",
       "      <td>-0.363160</td>\n",
       "    </tr>\n",
       "  </tbody>\n",
       "</table>\n",
       "</div>"
      ],
      "text/plain": [
       "               Coef.  Std.Err.         t         P>|t|    [0.025     0.975]  \\\n",
       "Intercept  17.033228  7.234903  2.354313  1.894909e-02  2.818109  31.248346   \n",
       "zn          0.044855  0.018734  2.394312  1.702489e-02  0.008047   0.081664   \n",
       "dis        -0.987176  0.281817 -3.502893  5.022039e-04 -1.540890  -0.433462   \n",
       "rad         0.588209  0.088049  6.680448  6.460451e-11  0.415210   0.761208   \n",
       "black      -0.007538  0.003673 -2.051959  4.070233e-02 -0.014755  -0.000320   \n",
       "medv       -0.198887  0.060516 -3.286517  1.086810e-03 -0.317788  -0.079985   \n",
       "\n",
       "           Univariate Coef.  \n",
       "Intercept               NaN  \n",
       "zn                -0.073935  \n",
       "dis               -1.550902  \n",
       "rad                0.617911  \n",
       "black             -0.036280  \n",
       "medv              -0.363160  "
      ]
     },
     "execution_count": 7,
     "metadata": {},
     "output_type": "execute_result"
    }
   ],
   "source": [
    "coef_table = multiple_fit.summary2().tables[1]\n",
    "coef_table['Univariate Coef.'] = univariate_coefficients\n",
    "coef_table[coef_table['P>|t|'] < 0.05]"
   ]
  },
  {
   "cell_type": "markdown",
   "metadata": {},
   "source": [
    "Plot of the univariate regression coefficients on the x-axis versus the multiple regression coefficients on the y-axis :"
   ]
  },
  {
   "cell_type": "code",
   "execution_count": 8,
   "metadata": {},
   "outputs": [
    {
     "data": {
      "image/png": "[encoded data removed]",
      "text/plain": [
       "<matplotlib.figure.Figure at 0x7fe703eb8160>"
      ]
     },
     "metadata": {},
     "output_type": "display_data"
    }
   ],
   "source": [
    "coef_table.plot.scatter('Univariate Coef.', 'Coef.');"
   ]
  },
  {
   "cell_type": "markdown",
   "metadata": {},
   "source": [
    "### Investigate evidence of non-linear association between any of the predictors and the response"
   ]
  },
  {
   "cell_type": "code",
   "execution_count": 9,
   "metadata": {},
   "outputs": [
    {
     "name": "stdout",
     "output_type": "stream",
     "text": [
      "Improvement adj. rsquared zn : 0.052613938212 / 0.0382835189607 = 1.37432345929\n",
      "Improvement adj. rsquared indus : 0.255233502489 / 0.163653939618 = 1.55959277903\n",
      "Improvement adj. rsquared chas : 0.00114594013188 / 0.00114594013188 = 1.0\n",
      "Improvement adj. rsquared nox : 0.292776568312 / 0.175584676201 = 1.66743803985\n",
      "Improvement adj. rsquared rm : 0.0622150615343 / 0.0461803649635 = 1.34721892266\n",
      "Improvement adj. rsquared age : 0.169296119046 / 0.122684192735 = 1.3799342464\n",
      "Improvement adj. rsquared dis : 0.273508984878 / 0.142451258606 = 1.92001802971\n",
      "Improvement adj. rsquared rad : 0.396451435004 / 0.390048862716 = 1.01641479543\n",
      "Improvement adj. rsquared tax : 0.365110458625 / 0.338303954179 = 1.07923792824\n",
      "Improvement adj. rsquared ptratio : 0.108485451416 / 0.0822511144178 = 1.31895418298\n",
      "Improvement adj. rsquared black : 0.144759190329 / 0.146584307359 = 0.987549028518\n",
      "Improvement adj. rsquared lstat : 0.213258721859 / 0.206018692321 = 1.03514258564\n",
      "Improvement adj. rsquared medv : 0.416735317858 / 0.149095509663 = 2.79508966299\n"
     ]
    }
   ],
   "source": [
    "for predictor in predictors :\n",
    "    simple_formula = \"crim ~ {0}\".format(predictor)\n",
    "    simple_fit = sm.ols(simple_formula, df).fit()\n",
    "    polynomial_formula = \"crim ~ {0} + np.power({0}, 2) + np.power({0}, 3)\".format(predictor)\n",
    "    polynomial_fit = sm.ols(polynomial_formula, df).fit()\n",
    "    \n",
    "    print('Improvement adj. rsquared {0}'.format(predictor), end=' : ')\n",
    "    print(polynomial_fit.rsquared_adj, end=' / ')\n",
    "    print(simple_fit.rsquared_adj, end=' = ')    \n",
    "    print(polynomial_fit.rsquared_adj / simple_fit.rsquared_adj) "
   ]
  },
  {
   "cell_type": "markdown",
   "metadata": {},
   "source": [
    "*medv*, median value of owner-occupied homes in $1000s, seems to have a non-linear relationship with *crim*. Also *dis*, *nox* and *indus* have a sizeable improvement of adj. rsquared."
   ]
  },
  {
   "cell_type": "code",
   "execution_count": null,
   "metadata": {
    "collapsed": true
   },
   "outputs": [],
   "source": []
  }
 ],
 "metadata": {
  "kernelspec": {
   "display_name": "Python 3",
   "language": "python",
   "name": "python3"
  },
  "language_info": {
   "codemirror_mode": {
    "name": "ipython",
    "version": 3
   },
   "file_extension": ".py",
   "mimetype": "text/x-python",
   "name": "python",
   "nbconvert_exporter": "python",
   "pygments_lexer": "ipython3",
   "version": "3.6.3"
  }
 },
 "nbformat": 4,
 "nbformat_minor": 2
}
