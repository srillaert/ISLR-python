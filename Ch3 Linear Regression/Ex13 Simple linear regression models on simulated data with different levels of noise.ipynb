{
 "cells": [
  {
   "cell_type": "code",
   "execution_count": 1,
   "metadata": {
    "collapsed": true
   },
   "outputs": [],
   "source": [
    "%matplotlib inline\n",
    "import matplotlib.pyplot as plt\n",
    "import numpy as np\n",
    "import seaborn as sns\n",
    "import statsmodels.api as sm\n",
    "sns.set()"
   ]
  },
  {
   "cell_type": "markdown",
   "metadata": {},
   "source": [
    "n = 100, ß₀ = -1 and ß₁ = 0.5"
   ]
  },
  {
   "cell_type": "code",
   "execution_count": 2,
   "metadata": {
    "collapsed": false
   },
   "outputs": [
    {
     "data": {
      "image/png": "[encoded data removed]",
      "text/plain": [
       "<matplotlib.figure.Figure at 0x7f6e7830d4a8>"
      ]
     },
     "metadata": {},
     "output_type": "display_data"
    }
   ],
   "source": [
    "np.random.seed(1)\n",
    "x = np.random.randn(100)\n",
    "eps = np.random.randn(100) * .25\n",
    "y = -1 + .5 * x + eps\n",
    "plt.scatter(x, y);"
   ]
  },
  {
   "cell_type": "code",
   "execution_count": 3,
   "metadata": {
    "collapsed": false
   },
   "outputs": [
    {
     "data": {
      "text/html": [
       "<table class=\"simpletable\">\n",
       "<tr>\n",
       "        <td>Model:</td>               <td>OLS</td>         <td>Adj. R-squared:</td>     <td>0.798</td> \n",
       "</tr>\n",
       "<tr>\n",
       "  <td>Dependent Variable:</td>         <td>y</td>               <td>AIC:</td>          <td>-4.3816</td>\n",
       "</tr>\n",
       "<tr>\n",
       "         <td>Date:</td>        <td>2017-11-16 14:22</td>        <td>BIC:</td>          <td>0.8288</td> \n",
       "</tr>\n",
       "<tr>\n",
       "   <td>No. Observations:</td>         <td>100</td>         <td>Log-Likelihood:</td>    <td>4.1908</td> \n",
       "</tr>\n",
       "<tr>\n",
       "       <td>Df Model:</td>              <td>1</td>           <td>F-statistic:</td>       <td>391.4</td> \n",
       "</tr>\n",
       "<tr>\n",
       "     <td>Df Residuals:</td>           <td>98</td>        <td>Prob (F-statistic):</td> <td>5.39e-36</td>\n",
       "</tr>\n",
       "<tr>\n",
       "      <td>R-squared:</td>            <td>0.800</td>            <td>Scale:</td>        <td>0.054941</td>\n",
       "</tr>\n",
       "</table>\n",
       "<table class=\"simpletable\">\n",
       "<tr>\n",
       "    <td></td>     <th>Coef.</th>  <th>Std.Err.</th>     <th>t</th>     <th>P>|t|</th> <th>[0.025</th>  <th>0.975]</th> \n",
       "</tr>\n",
       "<tr>\n",
       "  <th>const</th> <td>-0.9632</td>  <td>0.0235</td>  <td>-40.9990</td> <td>0.0000</td> <td>-1.0099</td> <td>-0.9166</td>\n",
       "</tr>\n",
       "<tr>\n",
       "  <th>x1</th>    <td>0.5239</td>   <td>0.0265</td>   <td>19.7826</td> <td>0.0000</td> <td>0.4713</td>  <td>0.5764</td> \n",
       "</tr>\n",
       "</table>\n",
       "<table class=\"simpletable\">\n",
       "<tr>\n",
       "     <td>Omnibus:</td>     <td>0.898</td>  <td>Durbin-Watson:</td>   <td>2.157</td>\n",
       "</tr>\n",
       "<tr>\n",
       "  <td>Prob(Omnibus):</td>  <td>0.638</td> <td>Jarque-Bera (JB):</td> <td>0.561</td>\n",
       "</tr>\n",
       "<tr>\n",
       "       <td>Skew:</td>     <td>-0.172</td>     <td>Prob(JB):</td>     <td>0.755</td>\n",
       "</tr>\n",
       "<tr>\n",
       "     <td>Kurtosis:</td>    <td>3.127</td>  <td>Condition No.:</td>     <td>1</td>  \n",
       "</tr>\n",
       "</table>"
      ],
      "text/plain": [
       "<class 'statsmodels.iolib.summary2.Summary'>\n",
       "\"\"\"\n",
       "                 Results: Ordinary least squares\n",
       "=================================================================\n",
       "Model:              OLS              Adj. R-squared:     0.798   \n",
       "Dependent Variable: y                AIC:                -4.3816 \n",
       "Date:               2017-11-16 14:22 BIC:                0.8288  \n",
       "No. Observations:   100              Log-Likelihood:     4.1908  \n",
       "Df Model:           1                F-statistic:        391.4   \n",
       "Df Residuals:       98               Prob (F-statistic): 5.39e-36\n",
       "R-squared:          0.800            Scale:              0.054941\n",
       "-------------------------------------------------------------------\n",
       "          Coef.    Std.Err.      t       P>|t|     [0.025    0.975]\n",
       "-------------------------------------------------------------------\n",
       "const    -0.9632     0.0235   -40.9990   0.0000   -1.0099   -0.9166\n",
       "x1        0.5239     0.0265    19.7826   0.0000    0.4713    0.5764\n",
       "-----------------------------------------------------------------\n",
       "Omnibus:               0.898        Durbin-Watson:          2.157\n",
       "Prob(Omnibus):         0.638        Jarque-Bera (JB):       0.561\n",
       "Skew:                  -0.172       Prob(JB):               0.755\n",
       "Kurtosis:              3.127        Condition No.:          1    \n",
       "=================================================================\n",
       "\n",
       "\"\"\""
      ]
     },
     "execution_count": 3,
     "metadata": {},
     "output_type": "execute_result"
    }
   ],
   "source": [
    "fit = sm.OLS(y,sm.add_constant(x)).fit()\n",
    "fit.summary2()"
   ]
  },
  {
   "cell_type": "code",
   "execution_count": 4,
   "metadata": {
    "collapsed": false,
    "scrolled": true
   },
   "outputs": [
    {
     "data": {
      "image/png": "[encoded data removed]",
      "text/plain": [
       "<matplotlib.figure.Figure at 0x7f6e75c03550>"
      ]
     },
     "metadata": {},
     "output_type": "display_data"
    }
   ],
   "source": [
    "plt.scatter(x, y);\n",
    "x_line = np.array([-3, 3])\n",
    "\n",
    "y_line_population = -1 + .5 * x_line\n",
    "plt.plot(x_line, y_line_population, 'black', label='Population regression')\n",
    "\n",
    "y_line_OLS = fit.predict(sm.add_constant(x_line))\n",
    "plt.plot(x_line, y_line_OLS, 'g', label='Least squares')\n",
    "\n",
    "plt.axis([-3, 3, -3, 1])\n",
    "plt.legend()\n",
    "plt.show();"
   ]
  },
  {
   "cell_type": "code",
   "execution_count": null,
   "metadata": {
    "collapsed": true
   },
   "outputs": [],
   "source": []
  }
 ],
 "metadata": {
  "kernelspec": {
   "display_name": "Python 3",
   "language": "python",
   "name": "python3"
  },
  "language_info": {
   "codemirror_mode": {
    "name": "ipython",
    "version": 3
   },
   "file_extension": ".py",
   "mimetype": "text/x-python",
   "name": "python",
   "nbconvert_exporter": "python",
   "pygments_lexer": "ipython3",
   "version": "3.5.4"
  }
 },
 "nbformat": 4,
 "nbformat_minor": 0
}
