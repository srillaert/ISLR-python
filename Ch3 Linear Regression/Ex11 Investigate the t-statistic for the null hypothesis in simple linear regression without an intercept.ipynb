{
 "cells": [
  {
   "cell_type": "code",
   "execution_count": 1,
   "metadata": {
    "collapsed": false
   },
   "outputs": [],
   "source": [
    "import numpy as np\n",
    "import statsmodels.formula.api as sm"
   ]
  },
  {
   "cell_type": "code",
   "execution_count": 2,
   "metadata": {
    "collapsed": false
   },
   "outputs": [],
   "source": [
    "np.random.seed(1)\n",
    "x = np.random.randn(100)\n",
    "y = 2*x+np.random.randn(100)"
   ]
  },
  {
   "cell_type": "markdown",
   "metadata": {},
   "source": [
    "### A simple linear regression of _y onto x_, without an intercept"
   ]
  },
  {
   "cell_type": "code",
   "execution_count": 3,
   "metadata": {
    "collapsed": false
   },
   "outputs": [
    {
     "data": {
      "text/html": [
       "<table class=\"simpletable\">\n",
       "<tr>\n",
       "        <td>Model:</td>               <td>OLS</td>         <td>Adj. R-squared:</td>     <td>0.796</td> \n",
       "</tr>\n",
       "<tr>\n",
       "  <td>Dependent Variable:</td>         <td>y</td>               <td>AIC:</td>         <td>273.3438</td>\n",
       "</tr>\n",
       "<tr>\n",
       "         <td>Date:</td>        <td>2017-11-09 17:34</td>        <td>BIC:</td>         <td>275.9489</td>\n",
       "</tr>\n",
       "<tr>\n",
       "   <td>No. Observations:</td>         <td>100</td>         <td>Log-Likelihood:</td>    <td>-135.67</td>\n",
       "</tr>\n",
       "<tr>\n",
       "       <td>Df Model:</td>              <td>1</td>           <td>F-statistic:</td>       <td>391.7</td> \n",
       "</tr>\n",
       "<tr>\n",
       "     <td>Df Residuals:</td>           <td>99</td>        <td>Prob (F-statistic):</td> <td>3.46e-36</td>\n",
       "</tr>\n",
       "<tr>\n",
       "      <td>R-squared:</td>            <td>0.798</td>            <td>Scale:</td>         <td>0.89191</td>\n",
       "</tr>\n",
       "</table>\n",
       "<table class=\"simpletable\">\n",
       "<tr>\n",
       "   <td></td>   <th>Coef.</th> <th>Std.Err.</th>    <th>t</th>     <th>P>|t|</th> <th>[0.025</th> <th>0.975]</th>\n",
       "</tr>\n",
       "<tr>\n",
       "  <th>x1</th> <td>2.1067</td>  <td>0.1064</td>  <td>19.7918</td> <td>0.0000</td> <td>1.8955</td> <td>2.3180</td>\n",
       "</tr>\n",
       "</table>\n",
       "<table class=\"simpletable\">\n",
       "<tr>\n",
       "     <td>Omnibus:</td>     <td>0.880</td>  <td>Durbin-Watson:</td>   <td>2.106</td>\n",
       "</tr>\n",
       "<tr>\n",
       "  <td>Prob(Omnibus):</td>  <td>0.644</td> <td>Jarque-Bera (JB):</td> <td>0.554</td>\n",
       "</tr>\n",
       "<tr>\n",
       "       <td>Skew:</td>     <td>-0.172</td>     <td>Prob(JB):</td>     <td>0.758</td>\n",
       "</tr>\n",
       "<tr>\n",
       "     <td>Kurtosis:</td>    <td>3.119</td>  <td>Condition No.:</td>     <td>1</td>  \n",
       "</tr>\n",
       "</table>"
      ],
      "text/plain": [
       "<class 'statsmodels.iolib.summary2.Summary'>\n",
       "\"\"\"\n",
       "                 Results: Ordinary least squares\n",
       "=================================================================\n",
       "Model:              OLS              Adj. R-squared:     0.796   \n",
       "Dependent Variable: y                AIC:                273.3438\n",
       "Date:               2017-11-09 17:34 BIC:                275.9489\n",
       "No. Observations:   100              Log-Likelihood:     -135.67 \n",
       "Df Model:           1                F-statistic:        391.7   \n",
       "Df Residuals:       99               Prob (F-statistic): 3.46e-36\n",
       "R-squared:          0.798            Scale:              0.89191 \n",
       "--------------------------------------------------------------------\n",
       "         Coef.     Std.Err.       t       P>|t|     [0.025    0.975]\n",
       "--------------------------------------------------------------------\n",
       "x1       2.1067      0.1064    19.7918    0.0000    1.8955    2.3180\n",
       "-----------------------------------------------------------------\n",
       "Omnibus:               0.880        Durbin-Watson:          2.106\n",
       "Prob(Omnibus):         0.644        Jarque-Bera (JB):       0.554\n",
       "Skew:                  -0.172       Prob(JB):               0.758\n",
       "Kurtosis:              3.119        Condition No.:          1    \n",
       "=================================================================\n",
       "\n",
       "\"\"\""
      ]
     },
     "execution_count": 3,
     "metadata": {},
     "output_type": "execute_result"
    }
   ],
   "source": [
    "model_y_onto_x = sm.OLS(y,x)\n",
    "results_y_onto_x = model_y_onto_x.fit()\n",
    "results_y_onto_x.summary2()"
   ]
  },
  {
   "cell_type": "markdown",
   "metadata": {},
   "source": [
    "Coefficient estimate for ß is 2.1067 with a standard error of 0.1064. That gives a t-statistic of 19.7918 and a p-value of less than 0.0001 associated with the null hypothesis H₀ : ß = 0, so we can reject the null hypothesis."
   ]
  },
  {
   "cell_type": "markdown",
   "metadata": {},
   "source": [
    "### A simple linear regression of _x onto y_, without an intercept"
   ]
  },
  {
   "cell_type": "code",
   "execution_count": 4,
   "metadata": {
    "collapsed": false
   },
   "outputs": [
    {
     "data": {
      "text/html": [
       "<table class=\"simpletable\">\n",
       "<tr>\n",
       "        <td>Model:</td>               <td>OLS</td>         <td>Adj. R-squared:</td>     <td>0.796</td> \n",
       "</tr>\n",
       "<tr>\n",
       "  <td>Dependent Variable:</td>         <td>y</td>               <td>AIC:</td>         <td>101.7824</td>\n",
       "</tr>\n",
       "<tr>\n",
       "         <td>Date:</td>        <td>2017-11-09 17:34</td>        <td>BIC:</td>         <td>104.3875</td>\n",
       "</tr>\n",
       "<tr>\n",
       "   <td>No. Observations:</td>         <td>100</td>         <td>Log-Likelihood:</td>    <td>-49.891</td>\n",
       "</tr>\n",
       "<tr>\n",
       "       <td>Df Model:</td>              <td>1</td>           <td>F-statistic:</td>       <td>391.7</td> \n",
       "</tr>\n",
       "<tr>\n",
       "     <td>Df Residuals:</td>           <td>99</td>        <td>Prob (F-statistic):</td> <td>3.46e-36</td>\n",
       "</tr>\n",
       "<tr>\n",
       "      <td>R-squared:</td>            <td>0.798</td>            <td>Scale:</td>         <td>0.16041</td>\n",
       "</tr>\n",
       "</table>\n",
       "<table class=\"simpletable\">\n",
       "<tr>\n",
       "   <td></td>   <th>Coef.</th> <th>Std.Err.</th>    <th>t</th>     <th>P>|t|</th> <th>[0.025</th> <th>0.975]</th>\n",
       "</tr>\n",
       "<tr>\n",
       "  <th>x1</th> <td>0.3789</td>  <td>0.0191</td>  <td>19.7918</td> <td>0.0000</td> <td>0.3409</td> <td>0.4169</td>\n",
       "</tr>\n",
       "</table>\n",
       "<table class=\"simpletable\">\n",
       "<tr>\n",
       "     <td>Omnibus:</td>    <td>0.476</td>  <td>Durbin-Watson:</td>   <td>2.166</td>\n",
       "</tr>\n",
       "<tr>\n",
       "  <td>Prob(Omnibus):</td> <td>0.788</td> <td>Jarque-Bera (JB):</td> <td>0.631</td>\n",
       "</tr>\n",
       "<tr>\n",
       "       <td>Skew:</td>     <td>0.115</td>     <td>Prob(JB):</td>     <td>0.729</td>\n",
       "</tr>\n",
       "<tr>\n",
       "     <td>Kurtosis:</td>   <td>2.685</td>  <td>Condition No.:</td>     <td>1</td>  \n",
       "</tr>\n",
       "</table>"
      ],
      "text/plain": [
       "<class 'statsmodels.iolib.summary2.Summary'>\n",
       "\"\"\"\n",
       "                 Results: Ordinary least squares\n",
       "=================================================================\n",
       "Model:              OLS              Adj. R-squared:     0.796   \n",
       "Dependent Variable: y                AIC:                101.7824\n",
       "Date:               2017-11-09 17:34 BIC:                104.3875\n",
       "No. Observations:   100              Log-Likelihood:     -49.891 \n",
       "Df Model:           1                F-statistic:        391.7   \n",
       "Df Residuals:       99               Prob (F-statistic): 3.46e-36\n",
       "R-squared:          0.798            Scale:              0.16041 \n",
       "--------------------------------------------------------------------\n",
       "         Coef.     Std.Err.       t       P>|t|     [0.025    0.975]\n",
       "--------------------------------------------------------------------\n",
       "x1       0.3789      0.0191    19.7918    0.0000    0.3409    0.4169\n",
       "-----------------------------------------------------------------\n",
       "Omnibus:              0.476        Durbin-Watson:           2.166\n",
       "Prob(Omnibus):        0.788        Jarque-Bera (JB):        0.631\n",
       "Skew:                 0.115        Prob(JB):                0.729\n",
       "Kurtosis:             2.685        Condition No.:           1    \n",
       "=================================================================\n",
       "\n",
       "\"\"\""
      ]
     },
     "execution_count": 4,
     "metadata": {},
     "output_type": "execute_result"
    }
   ],
   "source": [
    "model_x_onto_y = sm.OLS(x,y)\n",
    "results_x_onto_y = model_x_onto_y.fit()\n",
    "results_x_onto_y.summary2()"
   ]
  },
  {
   "cell_type": "markdown",
   "metadata": {},
   "source": [
    "Coefficient estimate for ß is 0.3789 with a standard error of 0.0191. That gives a t-statistic of 19.7918 and a p-value of less than 0.0001 associated with the null hypothesis H₀ : ß = 0, so we can reject the null hypothesis."
   ]
  },
  {
   "cell_type": "markdown",
   "metadata": {},
   "source": [
    "The coefficient estimates and the associated standard errors are different for y onto x versus x onto y but the t-statistic and p-value are the same."
   ]
  },
  {
   "cell_type": "code",
   "execution_count": null,
   "metadata": {
    "collapsed": true
   },
   "outputs": [],
   "source": []
  }
 ],
 "metadata": {
  "kernelspec": {
   "display_name": "Python 3",
   "language": "python",
   "name": "python3"
  },
  "language_info": {
   "codemirror_mode": {
    "name": "ipython",
    "version": 3
   },
   "file_extension": ".py",
   "mimetype": "text/x-python",
   "name": "python",
   "nbconvert_exporter": "python",
   "pygments_lexer": "ipython3",
   "version": "3.5.4"
  }
 },
 "nbformat": 4,
 "nbformat_minor": 0
}
