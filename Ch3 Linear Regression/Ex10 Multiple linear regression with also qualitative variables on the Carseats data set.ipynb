{
 "cells": [
  {
   "cell_type": "code",
   "execution_count": 1,
   "metadata": {
    "collapsed": true
   },
   "outputs": [],
   "source": [
    "%matplotlib inline\n",
    "import pandas as pd\n",
    "import seaborn as sns\n",
    "import statsmodels.formula.api as sm\n",
    "from statsmodels.graphics.regressionplots import plot_leverage_resid2"
   ]
  },
  {
   "cell_type": "code",
   "execution_count": 2,
   "metadata": {
    "collapsed": false
   },
   "outputs": [
    {
     "name": "stdout",
     "output_type": "stream",
     "text": [
      "\"\",\"Sales\",\"CompPrice\",\"Income\",\"Advertising\",\"Population\",\"Price\",\"ShelveLoc\",\"Age\",\"Education\",\"Urban\",\"US\"\n",
      "\"1\",9.5,138,73,11,276,120,\"Bad\",42,17,\"Yes\",\"Yes\"\n",
      "\"2\",11.22,111,48,16,260,83,\"Good\",65,10,\"Yes\",\"Yes\"\n",
      "\"3\",10.06,113,35,10,269,80,\"Medium\",59,12,\"Yes\",\"Yes\"\n",
      "\"4\",7.4,117,100,4,466,97,\"Medium\",55,14,\"Yes\",\"Yes\"\n",
      "\"5\",4.15,141,64,3,340,128,\"Bad\",38,13,\"Yes\",\"No\"\n",
      "\"6\",10.81,124,113,13,501,72,\"Bad\",78,16,\"No\",\"Yes\"\n",
      "\"7\",6.63,115,105,0,45,108,\"Medium\",71,15,\"Yes\",\"No\"\n",
      "\"8\",11.85,136,81,15,425,120,\"Good\",67,10,\"Yes\",\"Yes\"\n",
      "\"9\",6.54,132,110,0,108,124,\"Medium\",76,10,\"No\",\"No\"\n"
     ]
    }
   ],
   "source": [
    "!head ../Data/Carseats.csv"
   ]
  },
  {
   "cell_type": "code",
   "execution_count": 3,
   "metadata": {
    "collapsed": false
   },
   "outputs": [
    {
     "data": {
      "text/html": [
       "<div>\n",
       "<table border=\"1\" class=\"dataframe\">\n",
       "  <thead>\n",
       "    <tr style=\"text-align: right;\">\n",
       "      <th></th>\n",
       "      <th>Sales</th>\n",
       "      <th>CompPrice</th>\n",
       "      <th>Income</th>\n",
       "      <th>Advertising</th>\n",
       "      <th>Population</th>\n",
       "      <th>Price</th>\n",
       "      <th>ShelveLoc</th>\n",
       "      <th>Age</th>\n",
       "      <th>Education</th>\n",
       "      <th>Urban</th>\n",
       "      <th>US</th>\n",
       "    </tr>\n",
       "  </thead>\n",
       "  <tbody>\n",
       "    <tr>\n",
       "      <th>1</th>\n",
       "      <td>9.50</td>\n",
       "      <td>138</td>\n",
       "      <td>73</td>\n",
       "      <td>11</td>\n",
       "      <td>276</td>\n",
       "      <td>120</td>\n",
       "      <td>Bad</td>\n",
       "      <td>42</td>\n",
       "      <td>17</td>\n",
       "      <td>Yes</td>\n",
       "      <td>Yes</td>\n",
       "    </tr>\n",
       "    <tr>\n",
       "      <th>2</th>\n",
       "      <td>11.22</td>\n",
       "      <td>111</td>\n",
       "      <td>48</td>\n",
       "      <td>16</td>\n",
       "      <td>260</td>\n",
       "      <td>83</td>\n",
       "      <td>Good</td>\n",
       "      <td>65</td>\n",
       "      <td>10</td>\n",
       "      <td>Yes</td>\n",
       "      <td>Yes</td>\n",
       "    </tr>\n",
       "    <tr>\n",
       "      <th>3</th>\n",
       "      <td>10.06</td>\n",
       "      <td>113</td>\n",
       "      <td>35</td>\n",
       "      <td>10</td>\n",
       "      <td>269</td>\n",
       "      <td>80</td>\n",
       "      <td>Medium</td>\n",
       "      <td>59</td>\n",
       "      <td>12</td>\n",
       "      <td>Yes</td>\n",
       "      <td>Yes</td>\n",
       "    </tr>\n",
       "    <tr>\n",
       "      <th>4</th>\n",
       "      <td>7.40</td>\n",
       "      <td>117</td>\n",
       "      <td>100</td>\n",
       "      <td>4</td>\n",
       "      <td>466</td>\n",
       "      <td>97</td>\n",
       "      <td>Medium</td>\n",
       "      <td>55</td>\n",
       "      <td>14</td>\n",
       "      <td>Yes</td>\n",
       "      <td>Yes</td>\n",
       "    </tr>\n",
       "    <tr>\n",
       "      <th>5</th>\n",
       "      <td>4.15</td>\n",
       "      <td>141</td>\n",
       "      <td>64</td>\n",
       "      <td>3</td>\n",
       "      <td>340</td>\n",
       "      <td>128</td>\n",
       "      <td>Bad</td>\n",
       "      <td>38</td>\n",
       "      <td>13</td>\n",
       "      <td>Yes</td>\n",
       "      <td>No</td>\n",
       "    </tr>\n",
       "  </tbody>\n",
       "</table>\n",
       "</div>"
      ],
      "text/plain": [
       "   Sales  CompPrice  Income  Advertising  Population  Price ShelveLoc  Age  \\\n",
       "1   9.50        138      73           11         276    120       Bad   42   \n",
       "2  11.22        111      48           16         260     83      Good   65   \n",
       "3  10.06        113      35           10         269     80    Medium   59   \n",
       "4   7.40        117     100            4         466     97    Medium   55   \n",
       "5   4.15        141      64            3         340    128       Bad   38   \n",
       "\n",
       "   Education Urban   US  \n",
       "1         17   Yes  Yes  \n",
       "2         10   Yes  Yes  \n",
       "3         12   Yes  Yes  \n",
       "4         14   Yes  Yes  \n",
       "5         13   Yes   No  "
      ]
     },
     "execution_count": 3,
     "metadata": {},
     "output_type": "execute_result"
    }
   ],
   "source": [
    "carseats = pd.read_csv(\"../Data/Carseats.csv\", index_col=0)\n",
    "carseats.head()"
   ]
  },
  {
   "cell_type": "markdown",
   "metadata": {},
   "source": [
    "Fit a multiple regression model to predict *Sales* using *Price*, *Urban* and *US*."
   ]
  },
  {
   "cell_type": "code",
   "execution_count": 4,
   "metadata": {
    "collapsed": false
   },
   "outputs": [
    {
     "data": {
      "text/html": [
       "<table class=\"simpletable\">\n",
       "<tr>\n",
       "        <td>Model:</td>               <td>OLS</td>         <td>Adj. R-squared:</td>     <td>0.234</td>  \n",
       "</tr>\n",
       "<tr>\n",
       "  <td>Dependent Variable:</td>       <td>Sales</td>             <td>AIC:</td>         <td>1863.3121</td>\n",
       "</tr>\n",
       "<tr>\n",
       "         <td>Date:</td>        <td>2017-06-23 15:03</td>        <td>BIC:</td>         <td>1879.2779</td>\n",
       "</tr>\n",
       "<tr>\n",
       "   <td>No. Observations:</td>         <td>400</td>         <td>Log-Likelihood:</td>    <td>-927.66</td> \n",
       "</tr>\n",
       "<tr>\n",
       "       <td>Df Model:</td>              <td>3</td>           <td>F-statistic:</td>       <td>41.52</td>  \n",
       "</tr>\n",
       "<tr>\n",
       "     <td>Df Residuals:</td>           <td>396</td>       <td>Prob (F-statistic):</td> <td>2.39e-23</td> \n",
       "</tr>\n",
       "<tr>\n",
       "      <td>R-squared:</td>            <td>0.239</td>            <td>Scale:</td>         <td>6.1132</td>  \n",
       "</tr>\n",
       "</table>\n",
       "<table class=\"simpletable\">\n",
       "<tr>\n",
       "        <td></td>        <th>Coef.</th>  <th>Std.Err.</th>     <th>t</th>     <th>P>|t|</th> <th>[0.025</th>  <th>0.975]</th> \n",
       "</tr>\n",
       "<tr>\n",
       "  <th>Intercept</th>    <td>13.0435</td>  <td>0.6510</td>   <td>20.0357</td> <td>0.0000</td> <td>11.7636</td> <td>14.3233</td>\n",
       "</tr>\n",
       "<tr>\n",
       "  <th>Urban[T.Yes]</th> <td>-0.0219</td>  <td>0.2717</td>   <td>-0.0807</td> <td>0.9357</td> <td>-0.5560</td> <td>0.5121</td> \n",
       "</tr>\n",
       "<tr>\n",
       "  <th>US[T.Yes]</th>    <td>1.2006</td>   <td>0.2590</td>   <td>4.6347</td>  <td>0.0000</td> <td>0.6913</td>  <td>1.7098</td> \n",
       "</tr>\n",
       "<tr>\n",
       "  <th>Price</th>        <td>-0.0545</td>  <td>0.0052</td>  <td>-10.3892</td> <td>0.0000</td> <td>-0.0648</td> <td>-0.0442</td>\n",
       "</tr>\n",
       "</table>\n",
       "<table class=\"simpletable\">\n",
       "<tr>\n",
       "     <td>Omnibus:</td>    <td>0.676</td>  <td>Durbin-Watson:</td>   <td>1.912</td>\n",
       "</tr>\n",
       "<tr>\n",
       "  <td>Prob(Omnibus):</td> <td>0.713</td> <td>Jarque-Bera (JB):</td> <td>0.758</td>\n",
       "</tr>\n",
       "<tr>\n",
       "       <td>Skew:</td>     <td>0.093</td>     <td>Prob(JB):</td>     <td>0.684</td>\n",
       "</tr>\n",
       "<tr>\n",
       "     <td>Kurtosis:</td>   <td>2.897</td>  <td>Condition No.:</td>    <td>628</td> \n",
       "</tr>\n",
       "</table>"
      ],
      "text/plain": [
       "<class 'statsmodels.iolib.summary2.Summary'>\n",
       "\"\"\"\n",
       "                 Results: Ordinary least squares\n",
       "==================================================================\n",
       "Model:              OLS              Adj. R-squared:     0.234    \n",
       "Dependent Variable: Sales            AIC:                1863.3121\n",
       "Date:               2017-06-23 15:03 BIC:                1879.2779\n",
       "No. Observations:   400              Log-Likelihood:     -927.66  \n",
       "Df Model:           3                F-statistic:        41.52    \n",
       "Df Residuals:       396              Prob (F-statistic): 2.39e-23 \n",
       "R-squared:          0.239            Scale:              6.1132   \n",
       "-------------------------------------------------------------------\n",
       "               Coef.   Std.Err.     t      P>|t|    [0.025   0.975]\n",
       "-------------------------------------------------------------------\n",
       "Intercept     13.0435    0.6510   20.0357  0.0000  11.7636  14.3233\n",
       "Urban[T.Yes]  -0.0219    0.2717   -0.0807  0.9357  -0.5560   0.5121\n",
       "US[T.Yes]      1.2006    0.2590    4.6347  0.0000   0.6913   1.7098\n",
       "Price         -0.0545    0.0052  -10.3892  0.0000  -0.0648  -0.0442\n",
       "------------------------------------------------------------------\n",
       "Omnibus:               0.676        Durbin-Watson:           1.912\n",
       "Prob(Omnibus):         0.713        Jarque-Bera (JB):        0.758\n",
       "Skew:                  0.093        Prob(JB):                0.684\n",
       "Kurtosis:              2.897        Condition No.:           628  \n",
       "==================================================================\n",
       "\n",
       "\"\"\""
      ]
     },
     "execution_count": 4,
     "metadata": {},
     "output_type": "execute_result"
    }
   ],
   "source": [
    "initial_model = sm.ols(\"Sales ~ Price + Urban + US\", carseats)\n",
    "initial_results = initial_model.fit()\n",
    "initial_results.summary2()"
   ]
  },
  {
   "cell_type": "markdown",
   "metadata": {},
   "source": [
    "*Urban* does not affect *Sales* significantly. *US* is statistically significant and increases sales by around 1.2. *Price* has a negative impact on *Sales*.\n",
    "\n",
    "Sales is about 13 - 0.0545 * Price ( + 1.2 if US = Yes)\n",
    "\n",
    "We can reject the null hypothesis for *US* and *Price*. We now fit a smaller model without *Urban*."
   ]
  },
  {
   "cell_type": "code",
   "execution_count": 5,
   "metadata": {
    "collapsed": false
   },
   "outputs": [
    {
     "data": {
      "text/html": [
       "<table class=\"simpletable\">\n",
       "<tr>\n",
       "        <td>Model:</td>               <td>OLS</td>         <td>Adj. R-squared:</td>     <td>0.235</td>  \n",
       "</tr>\n",
       "<tr>\n",
       "  <td>Dependent Variable:</td>       <td>Sales</td>             <td>AIC:</td>         <td>1861.3186</td>\n",
       "</tr>\n",
       "<tr>\n",
       "         <td>Date:</td>        <td>2017-06-23 15:03</td>        <td>BIC:</td>         <td>1873.2930</td>\n",
       "</tr>\n",
       "<tr>\n",
       "   <td>No. Observations:</td>         <td>400</td>         <td>Log-Likelihood:</td>    <td>-927.66</td> \n",
       "</tr>\n",
       "<tr>\n",
       "       <td>Df Model:</td>              <td>2</td>           <td>F-statistic:</td>       <td>62.43</td>  \n",
       "</tr>\n",
       "<tr>\n",
       "     <td>Df Residuals:</td>           <td>397</td>       <td>Prob (F-statistic):</td> <td>2.66e-24</td> \n",
       "</tr>\n",
       "<tr>\n",
       "      <td>R-squared:</td>            <td>0.239</td>            <td>Scale:</td>         <td>6.0979</td>  \n",
       "</tr>\n",
       "</table>\n",
       "<table class=\"simpletable\">\n",
       "<tr>\n",
       "      <td></td>       <th>Coef.</th>  <th>Std.Err.</th>     <th>t</th>     <th>P>|t|</th> <th>[0.025</th>  <th>0.975]</th> \n",
       "</tr>\n",
       "<tr>\n",
       "  <th>Intercept</th> <td>13.0308</td>  <td>0.6310</td>   <td>20.6518</td> <td>0.0000</td> <td>11.7903</td> <td>14.2713</td>\n",
       "</tr>\n",
       "<tr>\n",
       "  <th>US[T.Yes]</th> <td>1.1996</td>   <td>0.2585</td>   <td>4.6415</td>  <td>0.0000</td> <td>0.6915</td>  <td>1.7078</td> \n",
       "</tr>\n",
       "<tr>\n",
       "  <th>Price</th>     <td>-0.0545</td>  <td>0.0052</td>  <td>-10.4161</td> <td>0.0000</td> <td>-0.0648</td> <td>-0.0442</td>\n",
       "</tr>\n",
       "</table>\n",
       "<table class=\"simpletable\">\n",
       "<tr>\n",
       "     <td>Omnibus:</td>    <td>0.666</td>  <td>Durbin-Watson:</td>   <td>1.912</td>\n",
       "</tr>\n",
       "<tr>\n",
       "  <td>Prob(Omnibus):</td> <td>0.717</td> <td>Jarque-Bera (JB):</td> <td>0.749</td>\n",
       "</tr>\n",
       "<tr>\n",
       "       <td>Skew:</td>     <td>0.092</td>     <td>Prob(JB):</td>     <td>0.688</td>\n",
       "</tr>\n",
       "<tr>\n",
       "     <td>Kurtosis:</td>   <td>2.895</td>  <td>Condition No.:</td>    <td>607</td> \n",
       "</tr>\n",
       "</table>"
      ],
      "text/plain": [
       "<class 'statsmodels.iolib.summary2.Summary'>\n",
       "\"\"\"\n",
       "                 Results: Ordinary least squares\n",
       "==================================================================\n",
       "Model:              OLS              Adj. R-squared:     0.235    \n",
       "Dependent Variable: Sales            AIC:                1861.3186\n",
       "Date:               2017-06-23 15:03 BIC:                1873.2930\n",
       "No. Observations:   400              Log-Likelihood:     -927.66  \n",
       "Df Model:           2                F-statistic:        62.43    \n",
       "Df Residuals:       397              Prob (F-statistic): 2.66e-24 \n",
       "R-squared:          0.239            Scale:              6.0979   \n",
       "-------------------------------------------------------------------\n",
       "               Coef.   Std.Err.     t      P>|t|    [0.025   0.975]\n",
       "-------------------------------------------------------------------\n",
       "Intercept     13.0308    0.6310   20.6518  0.0000  11.7903  14.2713\n",
       "US[T.Yes]      1.1996    0.2585    4.6415  0.0000   0.6915   1.7078\n",
       "Price         -0.0545    0.0052  -10.4161  0.0000  -0.0648  -0.0442\n",
       "------------------------------------------------------------------\n",
       "Omnibus:               0.666        Durbin-Watson:           1.912\n",
       "Prob(Omnibus):         0.717        Jarque-Bera (JB):        0.749\n",
       "Skew:                  0.092        Prob(JB):                0.688\n",
       "Kurtosis:              2.895        Condition No.:           607  \n",
       "==================================================================\n",
       "\n",
       "\"\"\""
      ]
     },
     "execution_count": 5,
     "metadata": {},
     "output_type": "execute_result"
    }
   ],
   "source": [
    "smaller_model = sm.ols(\"Sales ~ Price + US\", carseats)\n",
    "smaller_results = smaller_model.fit()\n",
    "smaller_results.summary2()"
   ]
  },
  {
   "cell_type": "markdown",
   "metadata": {},
   "source": [
    "The smaller model fits the data just as well as the initial model, both have a R-squared of 0.239."
   ]
  },
  {
   "cell_type": "code",
   "execution_count": 6,
   "metadata": {
    "collapsed": false
   },
   "outputs": [
    {
     "data": {
      "image/png": "[encoded data removed]",
      "text/plain": [
       "<matplotlib.figure.Figure at 0x4fe5048>"
      ]
     },
     "metadata": {},
     "output_type": "display_data"
    }
   ],
   "source": [
    "plot_leverage_resid2(smaller_results);"
   ]
  },
  {
   "cell_type": "markdown",
   "metadata": {},
   "source": [
    "The average leverage is (p + 1) / n = (2 + 1) / 400"
   ]
  },
  {
   "cell_type": "code",
   "execution_count": 7,
   "metadata": {
    "collapsed": false
   },
   "outputs": [
    {
     "name": "stdout",
     "output_type": "stream",
     "text": [
      "0.0075\n"
     ]
    }
   ],
   "source": [
    "print((2 + 1) / 400)"
   ]
  },
  {
   "cell_type": "code",
   "execution_count": 8,
   "metadata": {
    "collapsed": false
   },
   "outputs": [
    {
     "data": {
      "text/plain": [
       "Sales           10.43\n",
       "CompPrice          77\n",
       "Income             69\n",
       "Advertising         0\n",
       "Population         25\n",
       "Price              24\n",
       "ShelveLoc      Medium\n",
       "Age                50\n",
       "Education          18\n",
       "Urban             Yes\n",
       "US                 No\n",
       "Name: 43, dtype: object"
      ]
     },
     "execution_count": 8,
     "metadata": {},
     "output_type": "execute_result"
    }
   ],
   "source": [
    "carseats.loc[43]"
   ]
  },
  {
   "cell_type": "markdown",
   "metadata": {},
   "source": [
    "Observation 43 has high leverage because it has a very low *Price* compared with the other observations."
   ]
  },
  {
   "cell_type": "code",
   "execution_count": 9,
   "metadata": {
    "collapsed": false
   },
   "outputs": [
    {
     "data": {
      "text/html": [
       "<div>\n",
       "<table border=\"1\" class=\"dataframe\">\n",
       "  <thead>\n",
       "    <tr style=\"text-align: right;\">\n",
       "      <th></th>\n",
       "      <th>Sales</th>\n",
       "      <th>CompPrice</th>\n",
       "      <th>Income</th>\n",
       "      <th>Advertising</th>\n",
       "      <th>Population</th>\n",
       "      <th>Price</th>\n",
       "      <th>ShelveLoc</th>\n",
       "      <th>Age</th>\n",
       "      <th>Education</th>\n",
       "      <th>Urban</th>\n",
       "      <th>US</th>\n",
       "    </tr>\n",
       "  </thead>\n",
       "  <tbody>\n",
       "    <tr>\n",
       "      <th>43</th>\n",
       "      <td>10.43</td>\n",
       "      <td>77</td>\n",
       "      <td>69</td>\n",
       "      <td>0</td>\n",
       "      <td>25</td>\n",
       "      <td>24</td>\n",
       "      <td>Medium</td>\n",
       "      <td>50</td>\n",
       "      <td>18</td>\n",
       "      <td>Yes</td>\n",
       "      <td>No</td>\n",
       "    </tr>\n",
       "    <tr>\n",
       "      <th>126</th>\n",
       "      <td>9.34</td>\n",
       "      <td>89</td>\n",
       "      <td>78</td>\n",
       "      <td>0</td>\n",
       "      <td>181</td>\n",
       "      <td>49</td>\n",
       "      <td>Medium</td>\n",
       "      <td>43</td>\n",
       "      <td>15</td>\n",
       "      <td>No</td>\n",
       "      <td>No</td>\n",
       "    </tr>\n",
       "    <tr>\n",
       "      <th>368</th>\n",
       "      <td>14.37</td>\n",
       "      <td>95</td>\n",
       "      <td>106</td>\n",
       "      <td>0</td>\n",
       "      <td>256</td>\n",
       "      <td>53</td>\n",
       "      <td>Good</td>\n",
       "      <td>52</td>\n",
       "      <td>17</td>\n",
       "      <td>Yes</td>\n",
       "      <td>No</td>\n",
       "    </tr>\n",
       "    <tr>\n",
       "      <th>314</th>\n",
       "      <td>9.33</td>\n",
       "      <td>103</td>\n",
       "      <td>81</td>\n",
       "      <td>3</td>\n",
       "      <td>491</td>\n",
       "      <td>54</td>\n",
       "      <td>Medium</td>\n",
       "      <td>66</td>\n",
       "      <td>13</td>\n",
       "      <td>Yes</td>\n",
       "      <td>No</td>\n",
       "    </tr>\n",
       "    <tr>\n",
       "      <th>172</th>\n",
       "      <td>12.49</td>\n",
       "      <td>93</td>\n",
       "      <td>106</td>\n",
       "      <td>12</td>\n",
       "      <td>416</td>\n",
       "      <td>55</td>\n",
       "      <td>Medium</td>\n",
       "      <td>75</td>\n",
       "      <td>15</td>\n",
       "      <td>Yes</td>\n",
       "      <td>Yes</td>\n",
       "    </tr>\n",
       "  </tbody>\n",
       "</table>\n",
       "</div>"
      ],
      "text/plain": [
       "     Sales  CompPrice  Income  Advertising  Population  Price ShelveLoc  Age  \\\n",
       "43   10.43         77      69            0          25     24    Medium   50   \n",
       "126   9.34         89      78            0         181     49    Medium   43   \n",
       "368  14.37         95     106            0         256     53      Good   52   \n",
       "314   9.33        103      81            3         491     54    Medium   66   \n",
       "172  12.49         93     106           12         416     55    Medium   75   \n",
       "\n",
       "     Education Urban   US  \n",
       "43          18   Yes   No  \n",
       "126         15    No   No  \n",
       "368         17   Yes   No  \n",
       "314         13   Yes   No  \n",
       "172         15   Yes  Yes  "
      ]
     },
     "execution_count": 9,
     "metadata": {},
     "output_type": "execute_result"
    }
   ],
   "source": [
    "carseats.sort_values('Price').head()"
   ]
  },
  {
   "cell_type": "markdown",
   "metadata": {},
   "source": [
    "Observations 51 and 377 have a high normalized residuals."
   ]
  },
  {
   "cell_type": "code",
   "execution_count": 10,
   "metadata": {
    "collapsed": false
   },
   "outputs": [
    {
     "data": {
      "text/html": [
       "<div>\n",
       "<table border=\"1\" class=\"dataframe\">\n",
       "  <thead>\n",
       "    <tr style=\"text-align: right;\">\n",
       "      <th></th>\n",
       "      <th>Sales</th>\n",
       "      <th>CompPrice</th>\n",
       "      <th>Income</th>\n",
       "      <th>Advertising</th>\n",
       "      <th>Population</th>\n",
       "      <th>Price</th>\n",
       "      <th>ShelveLoc</th>\n",
       "      <th>Age</th>\n",
       "      <th>Education</th>\n",
       "      <th>Urban</th>\n",
       "      <th>US</th>\n",
       "    </tr>\n",
       "  </thead>\n",
       "  <tbody>\n",
       "    <tr>\n",
       "      <th>51</th>\n",
       "      <td>1.42</td>\n",
       "      <td>99</td>\n",
       "      <td>32</td>\n",
       "      <td>18</td>\n",
       "      <td>341</td>\n",
       "      <td>108</td>\n",
       "      <td>Bad</td>\n",
       "      <td>80</td>\n",
       "      <td>16</td>\n",
       "      <td>Yes</td>\n",
       "      <td>Yes</td>\n",
       "    </tr>\n",
       "    <tr>\n",
       "      <th>377</th>\n",
       "      <td>16.27</td>\n",
       "      <td>141</td>\n",
       "      <td>60</td>\n",
       "      <td>19</td>\n",
       "      <td>319</td>\n",
       "      <td>92</td>\n",
       "      <td>Good</td>\n",
       "      <td>44</td>\n",
       "      <td>11</td>\n",
       "      <td>Yes</td>\n",
       "      <td>Yes</td>\n",
       "    </tr>\n",
       "  </tbody>\n",
       "</table>\n",
       "</div>"
      ],
      "text/plain": [
       "     Sales  CompPrice  Income  Advertising  Population  Price ShelveLoc  Age  \\\n",
       "51    1.42         99      32           18         341    108       Bad   80   \n",
       "377  16.27        141      60           19         319     92      Good   44   \n",
       "\n",
       "     Education Urban   US  \n",
       "51          16   Yes  Yes  \n",
       "377         11   Yes  Yes  "
      ]
     },
     "execution_count": 10,
     "metadata": {},
     "output_type": "execute_result"
    }
   ],
   "source": [
    "carseats.loc[[51,377]]"
   ]
  },
  {
   "cell_type": "code",
   "execution_count": null,
   "metadata": {
    "collapsed": true
   },
   "outputs": [],
   "source": []
  }
 ],
 "metadata": {
  "kernelspec": {
   "display_name": "Python 3",
   "language": "python",
   "name": "python3"
  },
  "language_info": {
   "codemirror_mode": {
    "name": "ipython",
    "version": 3
   },
   "file_extension": ".py",
   "mimetype": "text/x-python",
   "name": "python",
   "nbconvert_exporter": "python",
   "pygments_lexer": "ipython3",
   "version": "3.6.0"
  }
 },
 "nbformat": 4,
 "nbformat_minor": 2
}
